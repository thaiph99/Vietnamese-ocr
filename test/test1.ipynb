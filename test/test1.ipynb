{
 "cells": [
  {
   "cell_type": "code",
   "execution_count": 2,
   "metadata": {},
   "outputs": [
    {
     "data": {
      "text/plain": "['Activities',\n 'Text Editor',\n 'Open',\n '1 Phạn',\n 'HỔng',\n 'Thái',\n '2 Nghia Trung, Nghía Hưng ,',\n 'Nam Định',\n 'Bấc TỪ Liêm,',\n 'Hà NỘi, Việt',\n 'Nan']"
     },
     "execution_count": 2,
     "metadata": {},
     "output_type": "execute_result"
    }
   ],
   "source": [
    "import easyocr\n",
    "reader = easyocr.Reader(['vi'])\n",
    "path_image = '/home/it/Data/thaiphData/Vietnamese-ocr/datatest/t.png'\n",
    "result = reader.readtext(path_image)\n",
    "\n",
    "result"
   ]
  }
 ],
 "metadata": {
  "kernelspec": {
   "display_name": "Python 3.8.5 64-bit",
   "name": "python385jvsc74a57bd031f2aee4e71d21fbe5cf8b01ff0e069b9275f58929596ceb00d14d90e3e16cd6"
  },
  "language_info": {
   "name": "python",
   "version": ""
  },
  "metadata": {
   "interpreter": {
    "hash": "31f2aee4e71d21fbe5cf8b01ff0e069b9275f58929596ceb00d14d90e3e16cd6"
   }
  },
  "orig_nbformat": 2
 },
 "nbformat": 4,
 "nbformat_minor": 2
}